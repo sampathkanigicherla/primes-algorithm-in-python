{
 "cells": [
  {
   "cell_type": "code",
   "execution_count": 3,
   "id": "2e6f1626-a897-4a31-8369-a8b4ac314f66",
   "metadata": {},
   "outputs": [
    {
     "name": "stdin",
     "output_type": "stream",
     "text": [
      "Enter the vertices number:  3\n",
      "Enter the path weight between the vertices: (0, 0):  1\n",
      "Enter the path weight between the vertices: (0, 1):  2\n",
      "Enter the path weight between the vertices: (0, 2):  3\n",
      "Enter the path weight between the vertices: (1, 1):  4\n",
      "Enter the path weight between the vertices: (1, 2):  5\n",
      "Enter the path weight between the vertices: (2, 2):  6\n"
     ]
    },
    {
     "name": "stdout",
     "output_type": "stream",
     "text": [
      "[[0, 2, 3], [2, 0, 0], [3, 0, 0]]\n"
     ]
    }
   ],
   "source": [
    "def primsAlgorithm(vertices):\n",
    "    adjacencyMatrix = [[0 for column in range(vertices)]\n",
    "                       for row in range(vertices)]\n",
    "    mstMatrix = [[0 for column in range(vertices)]\n",
    "                 for row in range(vertices)]\n",
    "    for i in range(0,vertices):\n",
    "        for j in range(0+i,vertices):\n",
    "            adjacencyMatrix[i][j] = int(input('Enter the path weight between the vertices: ({}, {}): '.format(i,j)))\n",
    "            adjacencyMatrix[j][i] = adjacencyMatrix[i][j]\n",
    "    positiveInf = float('inf')\n",
    "    selectedVertices = [False for vertex in range(vertices)]\n",
    "    while(False in selectedVertices):\n",
    "        minimum = positiveInf\n",
    "        start = 0\n",
    "        end = 0\n",
    "        for i in range(0,vertices):\n",
    "            if selectedVertices[i]:\n",
    "                for j in range(0+i,vertices):\n",
    "                    if (not selectedVertices[j] and adjacencyMatrix[i][j]>0):\n",
    "                        if adjacencyMatrix[i][j] < minimum:\n",
    "                            minimum = adjacencyMatrix[i][j]\n",
    "                            start, end = i, j\n",
    "        selectedVertices[end] = True\n",
    "        mstMatrix[start][end] = minimum\n",
    "        if minimum == positiveInf:\n",
    "            mstMatrix[start][end] = 0\n",
    "        mstMatrix[end][start] = mstMatrix[start][end]\n",
    "    print(mstMatrix)\n",
    "primsAlgorithm(int(input('Enter the vertices number: ')))"
   ]
  },
  {
   "cell_type": "code",
   "execution_count": null,
   "id": "1f92505a-80e5-4396-b634-b0625f529c54",
   "metadata": {},
   "outputs": [],
   "source": []
  }
 ],
 "metadata": {
  "kernelspec": {
   "display_name": "Python 3",
   "language": "python",
   "name": "python3"
  },
  "language_info": {
   "codemirror_mode": {
    "name": "ipython",
    "version": 3
   },
   "file_extension": ".py",
   "mimetype": "text/x-python",
   "name": "python",
   "nbconvert_exporter": "python",
   "pygments_lexer": "ipython3",
   "version": "3.8.8"
  }
 },
 "nbformat": 4,
 "nbformat_minor": 5
}
